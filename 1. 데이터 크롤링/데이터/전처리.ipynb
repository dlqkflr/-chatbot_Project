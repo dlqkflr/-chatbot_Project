{
 "cells": [
  {
   "cell_type": "code",
   "execution_count": 147,
   "metadata": {},
   "outputs": [],
   "source": [
    "import numpy as np\n",
    "import pandas as pd\n",
    "import os\n",
    "from tqdm import tqdm_notebook\n",
    "import re"
   ]
  },
  {
   "cell_type": "code",
   "execution_count": 238,
   "metadata": {},
   "outputs": [],
   "source": [
    "csv_list = os.listdir(\"./text_data2\")\n"
   ]
  },
  {
   "cell_type": "code",
   "execution_count": 239,
   "metadata": {},
   "outputs": [
    {
     "data": {
      "text/plain": [
       "['고민상담.csv',\n",
       " '공황장애고민.csv',\n",
       " '군입대고민.csv',\n",
       " '다이어트고민.csv',\n",
       " '대학생활고민.csv',\n",
       " '몸매고민.csv',\n",
       " '부부고민.csv',\n",
       " '불안장애고민.csv',\n",
       " '사랑고민.csv',\n",
       " '심리상담.csv',\n",
       " '연상고민.csv',\n",
       " '연애고민.csv',\n",
       " '연인관계고민.csv',\n",
       " '연하고민.csv',\n",
       " '외모고민.csv',\n",
       " '우울증고민.csv',\n",
       " '이별고민.csv',\n",
       " '이혼고민.csv',\n",
       " '입시고민.csv',\n",
       " '직장고민.csv',\n",
       " '직장생활고민.csv',\n",
       " '진로고민.csv',\n",
       " '취업고민.csv',\n",
       " '친구관계고민.csv',\n",
       " '퇴사고민.csv',\n",
       " '피부고민.csv',\n",
       " '학업고민.csv']"
      ]
     },
     "execution_count": 239,
     "metadata": {},
     "output_type": "execute_result"
    }
   ],
   "source": [
    "csv_list"
   ]
  },
  {
   "cell_type": "code",
   "execution_count": 12,
   "metadata": {},
   "outputs": [
    {
     "data": {
      "application/vnd.jupyter.widget-view+json": {
       "model_id": "5fed1f186b1d49d081b29635bb7488f9",
       "version_major": 2,
       "version_minor": 0
      },
      "text/plain": [
       "HBox(children=(IntProgress(value=0, max=27), HTML(value='')))"
      ]
     },
     "metadata": {},
     "output_type": "display_data"
    },
    {
     "name": "stdout",
     "output_type": "stream",
     "text": [
      "고민상담 의 csv 데이터 저장이 완료되었습니다.\n",
      "공황장애고민 의 csv 데이터 저장이 완료되었습니다.\n",
      "군입대고민 의 csv 데이터 저장이 완료되었습니다.\n",
      "다이어트고민 의 csv 데이터 저장이 완료되었습니다.\n",
      "대학생활고민 의 csv 데이터 저장이 완료되었습니다.\n",
      "몸매고민 의 csv 데이터 저장이 완료되었습니다.\n",
      "부부고민 의 csv 데이터 저장이 완료되었습니다.\n",
      "불안장애고민 의 csv 데이터 저장이 완료되었습니다.\n",
      "사랑고민 의 csv 데이터 저장이 완료되었습니다.\n",
      "심리상담 의 csv 데이터 저장이 완료되었습니다.\n",
      "연상고민 의 csv 데이터 저장이 완료되었습니다.\n",
      "연애고민 의 csv 데이터 저장이 완료되었습니다.\n",
      "연인관계고민 의 csv 데이터 저장이 완료되었습니다.\n",
      "연하고민 의 csv 데이터 저장이 완료되었습니다.\n",
      "외모고민 의 csv 데이터 저장이 완료되었습니다.\n",
      "우울증고민 의 csv 데이터 저장이 완료되었습니다.\n",
      "이별고민 의 csv 데이터 저장이 완료되었습니다.\n",
      "이혼고민 의 csv 데이터 저장이 완료되었습니다.\n",
      "입시고민 의 csv 데이터 저장이 완료되었습니다.\n",
      "직장고민 의 csv 데이터 저장이 완료되었습니다.\n",
      "직장생활고민 의 csv 데이터 저장이 완료되었습니다.\n",
      "진로고민 의 csv 데이터 저장이 완료되었습니다.\n",
      "취업고민 의 csv 데이터 저장이 완료되었습니다.\n",
      "친구관계고민 의 csv 데이터 저장이 완료되었습니다.\n",
      "퇴사고민 의 csv 데이터 저장이 완료되었습니다.\n",
      "피부고민 의 csv 데이터 저장이 완료되었습니다.\n",
      "학업고민 의 csv 데이터 저장이 완료되었습니다.\n",
      "\n"
     ]
    }
   ],
   "source": [
    "for file in tqdm_notebook(csv_list):\n",
    "    df = pd.read_csv('./text_data/'+file, encoding ='utf-8')\n",
    "    \n",
    "    df = df['text']\n",
    "    df =pd.DataFrame(df)\n",
    "    tl = []\n",
    "    df['text'].apply(lambda x : tl.append(x))\n",
    "    for k in range(0,len(tl)):\n",
    "        tl[k] =  tl[k].split(\">\")\n",
    "    testlist = []\n",
    "    for i in range(len(tl)):\n",
    "        for j in range(len(tl[i])):\n",
    "            if re.search('[ㄱ-ㅣ가-힣]+', tl[i][j]) != None:\n",
    "                testlist.append(tl[i][j])                \n",
    "        testlist.append('\\n')\n",
    "   \n",
    "    pd.DataFrame(testlist).to_csv(\"processing/{}.csv\".format(file[:-4]), encoding= 'utf-8', index= False)\n",
    "    print(\"{} 의 csv 데이터 저장이 완료되었습니다.\".format(file[:-4]))"
   ]
  },
  {
   "cell_type": "code",
   "execution_count": 11,
   "metadata": {},
   "outputs": [
    {
     "data": {
      "application/vnd.jupyter.widget-view+json": {
       "model_id": "17b9c973f9c947fd960946908ce4ac3d",
       "version_major": 2,
       "version_minor": 0
      },
      "text/plain": [
       "HBox(children=(IntProgress(value=0, max=27), HTML(value='')))"
      ]
     },
     "metadata": {},
     "output_type": "display_data"
    },
    {
     "name": "stdout",
     "output_type": "stream",
     "text": [
      "고민상담 의 txt 데이터 저장이 완료되었습니다.\n",
      "공황장애고민 의 txt 데이터 저장이 완료되었습니다.\n",
      "군입대고민 의 txt 데이터 저장이 완료되었습니다.\n",
      "다이어트고민 의 txt 데이터 저장이 완료되었습니다.\n",
      "대학생활고민 의 txt 데이터 저장이 완료되었습니다.\n",
      "몸매고민 의 txt 데이터 저장이 완료되었습니다.\n",
      "부부고민 의 txt 데이터 저장이 완료되었습니다.\n",
      "불안장애고민 의 txt 데이터 저장이 완료되었습니다.\n",
      "사랑고민 의 txt 데이터 저장이 완료되었습니다.\n",
      "심리상담 의 txt 데이터 저장이 완료되었습니다.\n",
      "연상고민 의 txt 데이터 저장이 완료되었습니다.\n",
      "연애고민 의 txt 데이터 저장이 완료되었습니다.\n",
      "연인관계고민 의 txt 데이터 저장이 완료되었습니다.\n",
      "연하고민 의 txt 데이터 저장이 완료되었습니다.\n",
      "외모고민 의 txt 데이터 저장이 완료되었습니다.\n",
      "우울증고민 의 txt 데이터 저장이 완료되었습니다.\n",
      "이별고민 의 txt 데이터 저장이 완료되었습니다.\n",
      "이혼고민 의 txt 데이터 저장이 완료되었습니다.\n",
      "입시고민 의 txt 데이터 저장이 완료되었습니다.\n",
      "직장고민 의 txt 데이터 저장이 완료되었습니다.\n",
      "직장생활고민 의 txt 데이터 저장이 완료되었습니다.\n",
      "진로고민 의 txt 데이터 저장이 완료되었습니다.\n",
      "취업고민 의 txt 데이터 저장이 완료되었습니다.\n",
      "친구관계고민 의 txt 데이터 저장이 완료되었습니다.\n",
      "퇴사고민 의 txt 데이터 저장이 완료되었습니다.\n",
      "피부고민 의 txt 데이터 저장이 완료되었습니다.\n",
      "학업고민 의 txt 데이터 저장이 완료되었습니다.\n",
      "\n"
     ]
    }
   ],
   "source": [
    "for file in tqdm_notebook(csv_list):\n",
    "    df = pd.read_csv('./text_data/'+file, encoding ='utf-8')\n",
    "    \n",
    "    df = df['text']\n",
    "    df =pd.DataFrame(df)\n",
    "    tl = []\n",
    "    df['text'].apply(lambda x : tl.append(x))\n",
    "    for k in range(0,len(tl)):\n",
    "        tl[k] =  tl[k].split(\">\")\n",
    "    testlist = []\n",
    "    for i in range(len(tl)):\n",
    "        for j in range(len(tl[i])):\n",
    "            if re.search('[ㄱ-ㅣ가-힣]+', tl[i][j]) != None:\n",
    "                testlist.append(tl[i][j])                \n",
    "        testlist.append('\\n')\n",
    "        \n",
    "    f = open(\"test_data/{}.txt\".format(file[:-4]), 'a', encoding='utf-8')\n",
    "    for i in range(0,len(df.values)):\n",
    "        if testlist[i] != '\\n':\n",
    "            f.write(testlist[i])\n",
    "            f.write('\\n')\n",
    "        else:\n",
    "            f.write(testlist[i])\n",
    "    f.close()\n",
    "    print(\"{} 의 txt 데이터 저장이 완료되었습니다.\".format(file[:-4]))"
   ]
  },
  {
   "cell_type": "code",
   "execution_count": null,
   "metadata": {},
   "outputs": [],
   "source": []
  }
 ],
 "metadata": {
  "kernelspec": {
   "display_name": "Python 3",
   "language": "python",
   "name": "python3"
  },
  "language_info": {
   "codemirror_mode": {
    "name": "ipython",
    "version": 3
   },
   "file_extension": ".py",
   "mimetype": "text/x-python",
   "name": "python",
   "nbconvert_exporter": "python",
   "pygments_lexer": "ipython3",
   "version": "3.7.3"
  }
 },
 "nbformat": 4,
 "nbformat_minor": 2
}
