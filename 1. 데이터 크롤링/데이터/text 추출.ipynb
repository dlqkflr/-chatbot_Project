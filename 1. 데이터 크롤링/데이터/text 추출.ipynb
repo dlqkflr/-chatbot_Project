{
 "cells": [
  {
   "cell_type": "code",
   "execution_count": 4,
   "metadata": {},
   "outputs": [],
   "source": [
    "import numpy as np\n",
    "import pandas as pd\n",
    "import os\n",
    "from tqdm import tqdm_notebook\n",
    "import re"
   ]
  },
  {
   "cell_type": "code",
   "execution_count": 5,
   "metadata": {},
   "outputs": [],
   "source": [
    "csv_list = os.listdir(\"./csv_data\")\n"
   ]
  },
  {
   "cell_type": "code",
   "execution_count": null,
   "metadata": {},
   "outputs": [],
   "source": []
  },
  {
   "cell_type": "code",
   "execution_count": 9,
   "metadata": {
    "scrolled": true
   },
   "outputs": [
    {
     "data": {
      "application/vnd.jupyter.widget-view+json": {
       "model_id": "8f707a37582e4eeda8d9131e2c1133d3",
       "version_major": 2,
       "version_minor": 0
      },
      "text/plain": [
       "HBox(children=(IntProgress(value=0, max=27), HTML(value='')))"
      ]
     },
     "metadata": {},
     "output_type": "display_data"
    },
    {
     "name": "stderr",
     "output_type": "stream",
     "text": [
      "C:\\Anaconda3\\lib\\site-packages\\ipykernel_launcher.py:10: SettingWithCopyWarning: \n",
      "A value is trying to be set on a copy of a slice from a DataFrame\n",
      "\n",
      "See the caveats in the documentation: http://pandas.pydata.org/pandas-docs/stable/user_guide/indexing.html#returning-a-view-versus-a-copy\n",
      "  # Remove the CWD from sys.path while we load stuff.\n",
      "C:\\Anaconda3\\lib\\site-packages\\ipykernel_launcher.py:9: SettingWithCopyWarning: \n",
      "A value is trying to be set on a copy of a slice from a DataFrame\n",
      "\n",
      "See the caveats in the documentation: http://pandas.pydata.org/pandas-docs/stable/user_guide/indexing.html#returning-a-view-versus-a-copy\n",
      "  if __name__ == '__main__':\n"
     ]
    },
    {
     "name": "stdout",
     "output_type": "stream",
     "text": [
      "고민상담 의 csv 데이터 저장이 완료되었습니다.\n",
      "공황장애고민 의 csv 데이터 저장이 완료되었습니다.\n",
      "군입대고민 의 csv 데이터 저장이 완료되었습니다.\n",
      "다이어트고민 의 csv 데이터 저장이 완료되었습니다.\n",
      "대학생활고민 의 csv 데이터 저장이 완료되었습니다.\n",
      "몸매고민 의 csv 데이터 저장이 완료되었습니다.\n",
      "부부고민 의 csv 데이터 저장이 완료되었습니다.\n",
      "불안장애고민 의 csv 데이터 저장이 완료되었습니다.\n",
      "사랑고민 의 csv 데이터 저장이 완료되었습니다.\n",
      "심리상담 의 csv 데이터 저장이 완료되었습니다.\n",
      "연상고민 의 csv 데이터 저장이 완료되었습니다.\n",
      "연애고민 의 csv 데이터 저장이 완료되었습니다.\n",
      "연인관계고민 의 csv 데이터 저장이 완료되었습니다.\n",
      "연하고민 의 csv 데이터 저장이 완료되었습니다.\n",
      "외모고민 의 csv 데이터 저장이 완료되었습니다.\n",
      "우울증고민 의 csv 데이터 저장이 완료되었습니다.\n",
      "이별고민 의 csv 데이터 저장이 완료되었습니다.\n",
      "이혼고민 의 csv 데이터 저장이 완료되었습니다.\n",
      "입시고민 의 csv 데이터 저장이 완료되었습니다.\n",
      "직장고민 의 csv 데이터 저장이 완료되었습니다.\n",
      "직장생활고민 의 csv 데이터 저장이 완료되었습니다.\n",
      "진로고민 의 csv 데이터 저장이 완료되었습니다.\n",
      "취업고민 의 csv 데이터 저장이 완료되었습니다.\n",
      "친구관계고민 의 csv 데이터 저장이 완료되었습니다.\n",
      "퇴사고민 의 csv 데이터 저장이 완료되었습니다.\n",
      "피부고민 의 csv 데이터 저장이 완료되었습니다.\n",
      "학업고민 의 csv 데이터 저장이 완료되었습니다.\n",
      "\n"
     ]
    }
   ],
   "source": [
    "search = \"\\n\\t\\t\\t\\t\"\n",
    "\n",
    "for file in tqdm_notebook(csv_list):\n",
    "    df = pd.read_csv('./csv_data/'+file, encoding ='utf-8')\n",
    "    \n",
    "    df= df.dropna()\n",
    "    df.columns = ['index','text']\n",
    "    for i in df.index:\n",
    "        df.text[i] = df.text[i][df.text[i].find(search):]\n",
    "        df.text[i] = re.sub('[^ ㄱ-ㅣ가-힣>]+', \"\", df.text[i])\n",
    "    df.to_csv(\"text_data2/{}.csv\".format(file[:-4]), encoding= 'utf-8')\n",
    "    print(\"{} 의 csv 데이터 저장이 완료되었습니다.\".format(file[:-4]))"
   ]
  },
  {
   "cell_type": "code",
   "execution_count": null,
   "metadata": {},
   "outputs": [],
   "source": []
  },
  {
   "cell_type": "code",
   "execution_count": null,
   "metadata": {},
   "outputs": [],
   "source": []
  }
 ],
 "metadata": {
  "kernelspec": {
   "display_name": "Python 3",
   "language": "python",
   "name": "python3"
  },
  "language_info": {
   "codemirror_mode": {
    "name": "ipython",
    "version": 3
   },
   "file_extension": ".py",
   "mimetype": "text/x-python",
   "name": "python",
   "nbconvert_exporter": "python",
   "pygments_lexer": "ipython3",
   "version": "3.7.3"
  }
 },
 "nbformat": 4,
 "nbformat_minor": 2
}
