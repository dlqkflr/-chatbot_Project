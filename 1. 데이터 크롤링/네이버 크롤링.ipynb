{
 "cells": [
  {
   "cell_type": "code",
   "execution_count": 3,
   "metadata": {},
   "outputs": [
    {
     "data": {
      "text/plain": [
       "'%EA%B3%A0%EB%AF%BC%EC%83%81%EB%8B%B4'"
      ]
     },
     "execution_count": 3,
     "metadata": {},
     "output_type": "execute_result"
    }
   ],
   "source": [
    "import urllib.request\n",
    "import config\n",
    "\n",
    "urllib.parse.quote('고민상담')"
   ]
  },
  {
   "cell_type": "code",
   "execution_count": 10,
   "metadata": {},
   "outputs": [],
   "source": [
    "def makeURL(search_text):\n",
    "    base = \"https://openapi.naver.com/v1/search/kin.json\"\n",
    "    parameters = \"?query=%s\" % urllib.parse.quote(search_text)\n",
    "    display = \"&display=100\"\n",
    "    url = base + parameters + display\n",
    "    return url\n"
   ]
  },
  {
   "cell_type": "code",
   "execution_count": 11,
   "metadata": {},
   "outputs": [
    {
     "data": {
      "text/plain": [
       "'https://openapi.naver.com/v1/search/kin.json?query=%EA%B3%A0%EB%AF%BC%EC%83%81%EB%8B%B4&display=100'"
      ]
     },
     "execution_count": 11,
     "metadata": {},
     "output_type": "execute_result"
    }
   ],
   "source": [
    "makeURL('고민상담')"
   ]
  },
  {
   "cell_type": "code",
   "execution_count": 7,
   "metadata": {},
   "outputs": [],
   "source": [
    "def requestURL(url):  # 매개인자로 url(http://www.naver.com.... ) 이 오면   open api 키를 header에 추가한 후, 크롤링\n",
    "    req = urllib.request.Request(url)\n",
    "    req.add_header(\"X-Naver-Client-Id\", config.client_id)  # open api 키를 header에 추가\n",
    "    req.add_header(\"X-Naver-Client-Secret\", config.client_secret)  # open api 키를 header에 추가\n",
    "    try:\n",
    "        response = urllib.request.urlopen(req)  # 크롤링\n",
    "        if response.status == 200:  # 200이면 정상 응답\n",
    "            print(\"Url Request Success\")\n",
    "            data = response.read().decode('utf-8')\n",
    "            return data  # 크롤링 결과 반환\n",
    "    except Exception as e:  # url로 요청 중 오류가 발생시 실행\n",
    "        print(e)\n",
    "        print(\"Error for URL : %s\" %url)\n",
    "        return None\n"
   ]
  },
  {
   "cell_type": "code",
   "execution_count": 19,
   "metadata": {},
   "outputs": [],
   "source": [
    "result = 'hhhh'\n",
    "filename = \"hahaha.txt\"\n",
    "with open(filename, 'w', encoding='utf8') as outfile:\n",
    "        outfile.write(result)"
   ]
  },
  {
   "cell_type": "code",
   "execution_count": 21,
   "metadata": {},
   "outputs": [],
   "source": [
    "import json\n",
    "\n",
    "def main():\n",
    "    print(\"네이버 검색 프로그램입니다.\")\n",
    "    search_text = input(\">검색할 키워드를 입력하세요.\")\n",
    "      \n",
    "    \n",
    "    for i in range(1,1000,100):\n",
    "        targetURL = makeURL(search_text)    #1. URL 만들기\n",
    "        targetURL += \"&start=%d\" %i\n",
    "        result = requestURL(targetURL)              #2. URL로 크롤링\n",
    "        #print(result)                              #3. 크롤링 결과 출력\n",
    "        \n",
    "        filename = '%s_naver_to_%s_all.json' % (search_text, i)\n",
    "        \n",
    "        with open(filename, 'w', encoding='utf8') as outfile:\n",
    "            outfile.write(result)\n",
    "        print(filename +' 저장 완료' )\n",
    "\n"
   ]
  },
  {
   "cell_type": "code",
   "execution_count": 23,
   "metadata": {},
   "outputs": [
    {
     "name": "stdout",
     "output_type": "stream",
     "text": [
      "네이버 검색 프로그램입니다.\n",
      ">검색할 키워드를 입력하세요.부부고민\n",
      "Url Request Success\n",
      "부부고민_naver_to_1_all.json 저장 완료\n",
      "Url Request Success\n",
      "부부고민_naver_to_101_all.json 저장 완료\n",
      "Url Request Success\n",
      "부부고민_naver_to_201_all.json 저장 완료\n",
      "Url Request Success\n",
      "부부고민_naver_to_301_all.json 저장 완료\n",
      "Url Request Success\n",
      "부부고민_naver_to_401_all.json 저장 완료\n",
      "Url Request Success\n",
      "부부고민_naver_to_501_all.json 저장 완료\n",
      "Url Request Success\n",
      "부부고민_naver_to_601_all.json 저장 완료\n",
      "Url Request Success\n",
      "부부고민_naver_to_701_all.json 저장 완료\n",
      "Url Request Success\n",
      "부부고민_naver_to_801_all.json 저장 완료\n",
      "Url Request Success\n",
      "부부고민_naver_to_901_all.json 저장 완료\n"
     ]
    }
   ],
   "source": [
    "main()"
   ]
  },
  {
   "cell_type": "code",
   "execution_count": 24,
   "metadata": {},
   "outputs": [
    {
     "name": "stdout",
     "output_type": "stream",
     "text": [
      "네이버 검색 프로그램입니다.\n",
      ">검색할 키워드를 입력하세요.진로고민\n",
      "Url Request Success\n",
      "진로고민_naver_to_1_all.json 저장 완료\n",
      "Url Request Success\n",
      "진로고민_naver_to_101_all.json 저장 완료\n",
      "Url Request Success\n",
      "진로고민_naver_to_201_all.json 저장 완료\n",
      "Url Request Success\n",
      "진로고민_naver_to_301_all.json 저장 완료\n",
      "Url Request Success\n",
      "진로고민_naver_to_401_all.json 저장 완료\n",
      "Url Request Success\n",
      "진로고민_naver_to_501_all.json 저장 완료\n",
      "Url Request Success\n",
      "진로고민_naver_to_601_all.json 저장 완료\n",
      "Url Request Success\n",
      "진로고민_naver_to_701_all.json 저장 완료\n",
      "Url Request Success\n",
      "진로고민_naver_to_801_all.json 저장 완료\n",
      "Url Request Success\n",
      "진로고민_naver_to_901_all.json 저장 완료\n"
     ]
    }
   ],
   "source": [
    "main()"
   ]
  },
  {
   "cell_type": "code",
   "execution_count": 25,
   "metadata": {},
   "outputs": [
    {
     "name": "stdout",
     "output_type": "stream",
     "text": [
      "네이버 검색 프로그램입니다.\n",
      ">검색할 키워드를 입력하세요.직장고민\n",
      "Url Request Success\n",
      "직장고민_naver_to_1_all.json 저장 완료\n",
      "Url Request Success\n",
      "직장고민_naver_to_101_all.json 저장 완료\n",
      "Url Request Success\n",
      "직장고민_naver_to_201_all.json 저장 완료\n",
      "Url Request Success\n",
      "직장고민_naver_to_301_all.json 저장 완료\n",
      "Url Request Success\n",
      "직장고민_naver_to_401_all.json 저장 완료\n",
      "Url Request Success\n",
      "직장고민_naver_to_501_all.json 저장 완료\n",
      "Url Request Success\n",
      "직장고민_naver_to_601_all.json 저장 완료\n",
      "Url Request Success\n",
      "직장고민_naver_to_701_all.json 저장 완료\n",
      "Url Request Success\n",
      "직장고민_naver_to_801_all.json 저장 완료\n",
      "Url Request Success\n",
      "직장고민_naver_to_901_all.json 저장 완료\n"
     ]
    }
   ],
   "source": [
    "main()"
   ]
  },
  {
   "cell_type": "code",
   "execution_count": 26,
   "metadata": {},
   "outputs": [
    {
     "name": "stdout",
     "output_type": "stream",
     "text": [
      "네이버 검색 프로그램입니다.\n",
      ">검색할 키워드를 입력하세요.학업고민\n",
      "Url Request Success\n",
      "학업고민_naver_to_1_all.json 저장 완료\n",
      "Url Request Success\n",
      "학업고민_naver_to_101_all.json 저장 완료\n",
      "Url Request Success\n",
      "학업고민_naver_to_201_all.json 저장 완료\n",
      "Url Request Success\n",
      "학업고민_naver_to_301_all.json 저장 완료\n",
      "Url Request Success\n",
      "학업고민_naver_to_401_all.json 저장 완료\n",
      "Url Request Success\n",
      "학업고민_naver_to_501_all.json 저장 완료\n",
      "Url Request Success\n",
      "학업고민_naver_to_601_all.json 저장 완료\n",
      "Url Request Success\n",
      "학업고민_naver_to_701_all.json 저장 완료\n",
      "Url Request Success\n",
      "학업고민_naver_to_801_all.json 저장 완료\n",
      "Url Request Success\n",
      "학업고민_naver_to_901_all.json 저장 완료\n"
     ]
    }
   ],
   "source": [
    "main()"
   ]
  },
  {
   "cell_type": "code",
   "execution_count": 27,
   "metadata": {},
   "outputs": [
    {
     "name": "stdout",
     "output_type": "stream",
     "text": [
      "네이버 검색 프로그램입니다.\n",
      ">검색할 키워드를 입력하세요.고민상담\n",
      "Url Request Success\n",
      "고민상담_naver_to_1_all.json 저장 완료\n",
      "Url Request Success\n",
      "고민상담_naver_to_101_all.json 저장 완료\n",
      "Url Request Success\n",
      "고민상담_naver_to_201_all.json 저장 완료\n",
      "Url Request Success\n",
      "고민상담_naver_to_301_all.json 저장 완료\n",
      "Url Request Success\n",
      "고민상담_naver_to_401_all.json 저장 완료\n",
      "Url Request Success\n",
      "고민상담_naver_to_501_all.json 저장 완료\n",
      "Url Request Success\n",
      "고민상담_naver_to_601_all.json 저장 완료\n",
      "Url Request Success\n",
      "고민상담_naver_to_701_all.json 저장 완료\n",
      "Url Request Success\n",
      "고민상담_naver_to_801_all.json 저장 완료\n",
      "Url Request Success\n",
      "고민상담_naver_to_901_all.json 저장 완료\n"
     ]
    }
   ],
   "source": [
    "main()"
   ]
  },
  {
   "cell_type": "code",
   "execution_count": 28,
   "metadata": {},
   "outputs": [
    {
     "name": "stdout",
     "output_type": "stream",
     "text": [
      "네이버 검색 프로그램입니다.\n",
      ">검색할 키워드를 입력하세요.심리상담\n",
      "Url Request Success\n",
      "심리상담_naver_to_1_all.json 저장 완료\n",
      "Url Request Success\n",
      "심리상담_naver_to_101_all.json 저장 완료\n",
      "Url Request Success\n",
      "심리상담_naver_to_201_all.json 저장 완료\n",
      "Url Request Success\n",
      "심리상담_naver_to_301_all.json 저장 완료\n",
      "Url Request Success\n",
      "심리상담_naver_to_401_all.json 저장 완료\n",
      "Url Request Success\n",
      "심리상담_naver_to_501_all.json 저장 완료\n",
      "Url Request Success\n",
      "심리상담_naver_to_601_all.json 저장 완료\n",
      "Url Request Success\n",
      "심리상담_naver_to_701_all.json 저장 완료\n",
      "Url Request Success\n",
      "심리상담_naver_to_801_all.json 저장 완료\n",
      "Url Request Success\n",
      "심리상담_naver_to_901_all.json 저장 완료\n"
     ]
    }
   ],
   "source": [
    "main()"
   ]
  },
  {
   "cell_type": "code",
   "execution_count": 29,
   "metadata": {},
   "outputs": [
    {
     "name": "stdout",
     "output_type": "stream",
     "text": [
      "네이버 검색 프로그램입니다.\n",
      ">검색할 키워드를 입력하세요.친구관계고민\n",
      "Url Request Success\n",
      "친구관계고민_naver_to_1_all.json 저장 완료\n",
      "Url Request Success\n",
      "친구관계고민_naver_to_101_all.json 저장 완료\n",
      "Url Request Success\n",
      "친구관계고민_naver_to_201_all.json 저장 완료\n",
      "Url Request Success\n",
      "친구관계고민_naver_to_301_all.json 저장 완료\n",
      "Url Request Success\n",
      "친구관계고민_naver_to_401_all.json 저장 완료\n",
      "Url Request Success\n",
      "친구관계고민_naver_to_501_all.json 저장 완료\n",
      "Url Request Success\n",
      "친구관계고민_naver_to_601_all.json 저장 완료\n",
      "Url Request Success\n",
      "친구관계고민_naver_to_701_all.json 저장 완료\n",
      "Url Request Success\n",
      "친구관계고민_naver_to_801_all.json 저장 완료\n",
      "Url Request Success\n",
      "친구관계고민_naver_to_901_all.json 저장 완료\n"
     ]
    }
   ],
   "source": [
    "main()"
   ]
  },
  {
   "cell_type": "code",
   "execution_count": 30,
   "metadata": {},
   "outputs": [
    {
     "name": "stdout",
     "output_type": "stream",
     "text": [
      "네이버 검색 프로그램입니다.\n",
      ">검색할 키워드를 입력하세요.사랑고민\n",
      "Url Request Success\n",
      "사랑고민_naver_to_1_all.json 저장 완료\n",
      "Url Request Success\n",
      "사랑고민_naver_to_101_all.json 저장 완료\n",
      "Url Request Success\n",
      "사랑고민_naver_to_201_all.json 저장 완료\n",
      "Url Request Success\n",
      "사랑고민_naver_to_301_all.json 저장 완료\n",
      "Url Request Success\n",
      "사랑고민_naver_to_401_all.json 저장 완료\n",
      "Url Request Success\n",
      "사랑고민_naver_to_501_all.json 저장 완료\n",
      "Url Request Success\n",
      "사랑고민_naver_to_601_all.json 저장 완료\n",
      "Url Request Success\n",
      "사랑고민_naver_to_701_all.json 저장 완료\n",
      "Url Request Success\n",
      "사랑고민_naver_to_801_all.json 저장 완료\n",
      "Url Request Success\n",
      "사랑고민_naver_to_901_all.json 저장 완료\n"
     ]
    }
   ],
   "source": [
    "main()"
   ]
  },
  {
   "cell_type": "code",
   "execution_count": 31,
   "metadata": {},
   "outputs": [
    {
     "name": "stdout",
     "output_type": "stream",
     "text": [
      "네이버 검색 프로그램입니다.\n",
      ">검색할 키워드를 입력하세요.연인관계고민\n",
      "Url Request Success\n",
      "연인관계고민_naver_to_1_all.json 저장 완료\n",
      "Url Request Success\n",
      "연인관계고민_naver_to_101_all.json 저장 완료\n",
      "Url Request Success\n",
      "연인관계고민_naver_to_201_all.json 저장 완료\n",
      "Url Request Success\n",
      "연인관계고민_naver_to_301_all.json 저장 완료\n",
      "Url Request Success\n",
      "연인관계고민_naver_to_401_all.json 저장 완료\n",
      "Url Request Success\n",
      "연인관계고민_naver_to_501_all.json 저장 완료\n",
      "Url Request Success\n",
      "연인관계고민_naver_to_601_all.json 저장 완료\n",
      "Url Request Success\n",
      "연인관계고민_naver_to_701_all.json 저장 완료\n",
      "Url Request Success\n",
      "연인관계고민_naver_to_801_all.json 저장 완료\n",
      "Url Request Success\n",
      "연인관계고민_naver_to_901_all.json 저장 완료\n"
     ]
    }
   ],
   "source": [
    "main()"
   ]
  },
  {
   "cell_type": "code",
   "execution_count": 32,
   "metadata": {},
   "outputs": [
    {
     "name": "stdout",
     "output_type": "stream",
     "text": [
      "네이버 검색 프로그램입니다.\n",
      ">검색할 키워드를 입력하세요.직장생활고민\n",
      "Url Request Success\n",
      "직장생활고민_naver_to_1_all.json 저장 완료\n",
      "Url Request Success\n",
      "직장생활고민_naver_to_101_all.json 저장 완료\n",
      "Url Request Success\n",
      "직장생활고민_naver_to_201_all.json 저장 완료\n",
      "Url Request Success\n",
      "직장생활고민_naver_to_301_all.json 저장 완료\n",
      "Url Request Success\n",
      "직장생활고민_naver_to_401_all.json 저장 완료\n",
      "Url Request Success\n",
      "직장생활고민_naver_to_501_all.json 저장 완료\n",
      "Url Request Success\n",
      "직장생활고민_naver_to_601_all.json 저장 완료\n",
      "Url Request Success\n",
      "직장생활고민_naver_to_701_all.json 저장 완료\n",
      "Url Request Success\n",
      "직장생활고민_naver_to_801_all.json 저장 완료\n",
      "Url Request Success\n",
      "직장생활고민_naver_to_901_all.json 저장 완료\n"
     ]
    }
   ],
   "source": [
    "main()"
   ]
  },
  {
   "cell_type": "code",
   "execution_count": 33,
   "metadata": {},
   "outputs": [
    {
     "name": "stdout",
     "output_type": "stream",
     "text": [
      "네이버 검색 프로그램입니다.\n",
      ">검색할 키워드를 입력하세요.취업고민\n",
      "Url Request Success\n",
      "취업고민_naver_to_1_all.json 저장 완료\n",
      "Url Request Success\n",
      "취업고민_naver_to_101_all.json 저장 완료\n",
      "Url Request Success\n",
      "취업고민_naver_to_201_all.json 저장 완료\n",
      "Url Request Success\n",
      "취업고민_naver_to_301_all.json 저장 완료\n",
      "Url Request Success\n",
      "취업고민_naver_to_401_all.json 저장 완료\n",
      "Url Request Success\n",
      "취업고민_naver_to_501_all.json 저장 완료\n",
      "Url Request Success\n",
      "취업고민_naver_to_601_all.json 저장 완료\n",
      "Url Request Success\n",
      "취업고민_naver_to_701_all.json 저장 완료\n",
      "Url Request Success\n",
      "취업고민_naver_to_801_all.json 저장 완료\n",
      "Url Request Success\n",
      "취업고민_naver_to_901_all.json 저장 완료\n"
     ]
    }
   ],
   "source": [
    "main()"
   ]
  },
  {
   "cell_type": "code",
   "execution_count": 34,
   "metadata": {},
   "outputs": [
    {
     "name": "stdout",
     "output_type": "stream",
     "text": [
      "네이버 검색 프로그램입니다.\n",
      ">검색할 키워드를 입력하세요.대학생활고민\n",
      "Url Request Success\n",
      "대학생활고민_naver_to_1_all.json 저장 완료\n",
      "Url Request Success\n",
      "대학생활고민_naver_to_101_all.json 저장 완료\n",
      "Url Request Success\n",
      "대학생활고민_naver_to_201_all.json 저장 완료\n",
      "Url Request Success\n",
      "대학생활고민_naver_to_301_all.json 저장 완료\n",
      "Url Request Success\n",
      "대학생활고민_naver_to_401_all.json 저장 완료\n",
      "Url Request Success\n",
      "대학생활고민_naver_to_501_all.json 저장 완료\n",
      "Url Request Success\n",
      "대학생활고민_naver_to_601_all.json 저장 완료\n",
      "Url Request Success\n",
      "대학생활고민_naver_to_701_all.json 저장 완료\n",
      "Url Request Success\n",
      "대학생활고민_naver_to_801_all.json 저장 완료\n",
      "Url Request Success\n",
      "대학생활고민_naver_to_901_all.json 저장 완료\n"
     ]
    }
   ],
   "source": [
    "main()"
   ]
  },
  {
   "cell_type": "code",
   "execution_count": 35,
   "metadata": {},
   "outputs": [
    {
     "name": "stdout",
     "output_type": "stream",
     "text": [
      "네이버 검색 프로그램입니다.\n",
      ">검색할 키워드를 입력하세요.퇴사고민\n",
      "Url Request Success\n",
      "퇴사고민_naver_to_1_all.json 저장 완료\n",
      "Url Request Success\n",
      "퇴사고민_naver_to_101_all.json 저장 완료\n",
      "Url Request Success\n",
      "퇴사고민_naver_to_201_all.json 저장 완료\n",
      "Url Request Success\n",
      "퇴사고민_naver_to_301_all.json 저장 완료\n",
      "Url Request Success\n",
      "퇴사고민_naver_to_401_all.json 저장 완료\n",
      "Url Request Success\n",
      "퇴사고민_naver_to_501_all.json 저장 완료\n",
      "Url Request Success\n",
      "퇴사고민_naver_to_601_all.json 저장 완료\n",
      "Url Request Success\n",
      "퇴사고민_naver_to_701_all.json 저장 완료\n",
      "Url Request Success\n",
      "퇴사고민_naver_to_801_all.json 저장 완료\n",
      "Url Request Success\n",
      "퇴사고민_naver_to_901_all.json 저장 완료\n"
     ]
    }
   ],
   "source": [
    "main()"
   ]
  },
  {
   "cell_type": "code",
   "execution_count": 36,
   "metadata": {},
   "outputs": [
    {
     "name": "stdout",
     "output_type": "stream",
     "text": [
      "네이버 검색 프로그램입니다.\n",
      ">검색할 키워드를 입력하세요.군입대고민\n",
      "Url Request Success\n",
      "군입대고민_naver_to_1_all.json 저장 완료\n",
      "Url Request Success\n",
      "군입대고민_naver_to_101_all.json 저장 완료\n",
      "Url Request Success\n",
      "군입대고민_naver_to_201_all.json 저장 완료\n",
      "Url Request Success\n",
      "군입대고민_naver_to_301_all.json 저장 완료\n",
      "Url Request Success\n",
      "군입대고민_naver_to_401_all.json 저장 완료\n",
      "Url Request Success\n",
      "군입대고민_naver_to_501_all.json 저장 완료\n",
      "Url Request Success\n",
      "군입대고민_naver_to_601_all.json 저장 완료\n",
      "Url Request Success\n",
      "군입대고민_naver_to_701_all.json 저장 완료\n",
      "Url Request Success\n",
      "군입대고민_naver_to_801_all.json 저장 완료\n",
      "Url Request Success\n",
      "군입대고민_naver_to_901_all.json 저장 완료\n"
     ]
    }
   ],
   "source": [
    "main()"
   ]
  },
  {
   "cell_type": "code",
   "execution_count": 37,
   "metadata": {},
   "outputs": [
    {
     "name": "stdout",
     "output_type": "stream",
     "text": [
      "네이버 검색 프로그램입니다.\n",
      ">검색할 키워드를 입력하세요.외모고민\n",
      "Url Request Success\n",
      "외모고민_naver_to_1_all.json 저장 완료\n",
      "Url Request Success\n",
      "외모고민_naver_to_101_all.json 저장 완료\n",
      "Url Request Success\n",
      "외모고민_naver_to_201_all.json 저장 완료\n",
      "Url Request Success\n",
      "외모고민_naver_to_301_all.json 저장 완료\n",
      "Url Request Success\n",
      "외모고민_naver_to_401_all.json 저장 완료\n",
      "Url Request Success\n",
      "외모고민_naver_to_501_all.json 저장 완료\n",
      "Url Request Success\n",
      "외모고민_naver_to_601_all.json 저장 완료\n",
      "Url Request Success\n",
      "외모고민_naver_to_701_all.json 저장 완료\n",
      "Url Request Success\n",
      "외모고민_naver_to_801_all.json 저장 완료\n",
      "Url Request Success\n",
      "외모고민_naver_to_901_all.json 저장 완료\n"
     ]
    }
   ],
   "source": [
    "main()"
   ]
  },
  {
   "cell_type": "code",
   "execution_count": 38,
   "metadata": {},
   "outputs": [
    {
     "name": "stdout",
     "output_type": "stream",
     "text": [
      "네이버 검색 프로그램입니다.\n",
      ">검색할 키워드를 입력하세요.입시고민\n",
      "Url Request Success\n",
      "입시고민_naver_to_1_all.json 저장 완료\n",
      "Url Request Success\n",
      "입시고민_naver_to_101_all.json 저장 완료\n",
      "Url Request Success\n",
      "입시고민_naver_to_201_all.json 저장 완료\n",
      "Url Request Success\n",
      "입시고민_naver_to_301_all.json 저장 완료\n",
      "Url Request Success\n",
      "입시고민_naver_to_401_all.json 저장 완료\n",
      "Url Request Success\n",
      "입시고민_naver_to_501_all.json 저장 완료\n",
      "Url Request Success\n",
      "입시고민_naver_to_601_all.json 저장 완료\n",
      "Url Request Success\n",
      "입시고민_naver_to_701_all.json 저장 완료\n",
      "Url Request Success\n",
      "입시고민_naver_to_801_all.json 저장 완료\n",
      "Url Request Success\n",
      "입시고민_naver_to_901_all.json 저장 완료\n"
     ]
    }
   ],
   "source": [
    "main()"
   ]
  },
  {
   "cell_type": "code",
   "execution_count": 39,
   "metadata": {},
   "outputs": [
    {
     "name": "stdout",
     "output_type": "stream",
     "text": [
      "네이버 검색 프로그램입니다.\n",
      ">검색할 키워드를 입력하세요.몸매고민\n",
      "Url Request Success\n",
      "몸매고민_naver_to_1_all.json 저장 완료\n",
      "Url Request Success\n",
      "몸매고민_naver_to_101_all.json 저장 완료\n",
      "Url Request Success\n",
      "몸매고민_naver_to_201_all.json 저장 완료\n",
      "Url Request Success\n",
      "몸매고민_naver_to_301_all.json 저장 완료\n",
      "Url Request Success\n",
      "몸매고민_naver_to_401_all.json 저장 완료\n",
      "Url Request Success\n",
      "몸매고민_naver_to_501_all.json 저장 완료\n",
      "Url Request Success\n",
      "몸매고민_naver_to_601_all.json 저장 완료\n",
      "Url Request Success\n",
      "몸매고민_naver_to_701_all.json 저장 완료\n",
      "Url Request Success\n",
      "몸매고민_naver_to_801_all.json 저장 완료\n",
      "Url Request Success\n",
      "몸매고민_naver_to_901_all.json 저장 완료\n"
     ]
    }
   ],
   "source": [
    "main()"
   ]
  },
  {
   "cell_type": "code",
   "execution_count": 40,
   "metadata": {},
   "outputs": [
    {
     "name": "stdout",
     "output_type": "stream",
     "text": [
      "네이버 검색 프로그램입니다.\n",
      ">검색할 키워드를 입력하세요.우울증고민\n",
      "Url Request Success\n",
      "우울증고민_naver_to_1_all.json 저장 완료\n",
      "Url Request Success\n",
      "우울증고민_naver_to_101_all.json 저장 완료\n",
      "Url Request Success\n",
      "우울증고민_naver_to_201_all.json 저장 완료\n",
      "Url Request Success\n",
      "우울증고민_naver_to_301_all.json 저장 완료\n",
      "Url Request Success\n",
      "우울증고민_naver_to_401_all.json 저장 완료\n",
      "Url Request Success\n",
      "우울증고민_naver_to_501_all.json 저장 완료\n",
      "Url Request Success\n",
      "우울증고민_naver_to_601_all.json 저장 완료\n",
      "Url Request Success\n",
      "우울증고민_naver_to_701_all.json 저장 완료\n",
      "Url Request Success\n",
      "우울증고민_naver_to_801_all.json 저장 완료\n",
      "Url Request Success\n",
      "우울증고민_naver_to_901_all.json 저장 완료\n"
     ]
    }
   ],
   "source": [
    "main()"
   ]
  },
  {
   "cell_type": "code",
   "execution_count": 41,
   "metadata": {},
   "outputs": [
    {
     "name": "stdout",
     "output_type": "stream",
     "text": [
      "네이버 검색 프로그램입니다.\n",
      ">검색할 키워드를 입력하세요.피부고민\n",
      "Url Request Success\n",
      "피부고민_naver_to_1_all.json 저장 완료\n",
      "Url Request Success\n",
      "피부고민_naver_to_101_all.json 저장 완료\n",
      "Url Request Success\n",
      "피부고민_naver_to_201_all.json 저장 완료\n",
      "Url Request Success\n",
      "피부고민_naver_to_301_all.json 저장 완료\n",
      "Url Request Success\n",
      "피부고민_naver_to_401_all.json 저장 완료\n",
      "Url Request Success\n",
      "피부고민_naver_to_501_all.json 저장 완료\n",
      "Url Request Success\n",
      "피부고민_naver_to_601_all.json 저장 완료\n",
      "Url Request Success\n",
      "피부고민_naver_to_701_all.json 저장 완료\n",
      "Url Request Success\n",
      "피부고민_naver_to_801_all.json 저장 완료\n",
      "Url Request Success\n",
      "피부고민_naver_to_901_all.json 저장 완료\n"
     ]
    }
   ],
   "source": [
    "main()"
   ]
  },
  {
   "cell_type": "code",
   "execution_count": 42,
   "metadata": {},
   "outputs": [
    {
     "name": "stdout",
     "output_type": "stream",
     "text": [
      "네이버 검색 프로그램입니다.\n",
      ">검색할 키워드를 입력하세요.다이어트고민\n",
      "Url Request Success\n",
      "다이어트고민_naver_to_1_all.json 저장 완료\n",
      "Url Request Success\n",
      "다이어트고민_naver_to_101_all.json 저장 완료\n",
      "Url Request Success\n",
      "다이어트고민_naver_to_201_all.json 저장 완료\n",
      "Url Request Success\n",
      "다이어트고민_naver_to_301_all.json 저장 완료\n",
      "Url Request Success\n",
      "다이어트고민_naver_to_401_all.json 저장 완료\n",
      "Url Request Success\n",
      "다이어트고민_naver_to_501_all.json 저장 완료\n",
      "Url Request Success\n",
      "다이어트고민_naver_to_601_all.json 저장 완료\n",
      "Url Request Success\n",
      "다이어트고민_naver_to_701_all.json 저장 완료\n",
      "Url Request Success\n",
      "다이어트고민_naver_to_801_all.json 저장 완료\n",
      "Url Request Success\n",
      "다이어트고민_naver_to_901_all.json 저장 완료\n"
     ]
    }
   ],
   "source": [
    "main()"
   ]
  },
  {
   "cell_type": "code",
   "execution_count": 43,
   "metadata": {},
   "outputs": [
    {
     "name": "stdout",
     "output_type": "stream",
     "text": [
      "네이버 검색 프로그램입니다.\n",
      ">검색할 키워드를 입력하세요.연상고민\n",
      "Url Request Success\n",
      "연상고민_naver_to_1_all.json 저장 완료\n",
      "Url Request Success\n",
      "연상고민_naver_to_101_all.json 저장 완료\n",
      "Url Request Success\n",
      "연상고민_naver_to_201_all.json 저장 완료\n",
      "Url Request Success\n",
      "연상고민_naver_to_301_all.json 저장 완료\n",
      "Url Request Success\n",
      "연상고민_naver_to_401_all.json 저장 완료\n",
      "Url Request Success\n",
      "연상고민_naver_to_501_all.json 저장 완료\n",
      "Url Request Success\n",
      "연상고민_naver_to_601_all.json 저장 완료\n",
      "Url Request Success\n",
      "연상고민_naver_to_701_all.json 저장 완료\n",
      "Url Request Success\n",
      "연상고민_naver_to_801_all.json 저장 완료\n",
      "Url Request Success\n",
      "연상고민_naver_to_901_all.json 저장 완료\n"
     ]
    }
   ],
   "source": [
    "main()"
   ]
  },
  {
   "cell_type": "code",
   "execution_count": 44,
   "metadata": {},
   "outputs": [
    {
     "name": "stdout",
     "output_type": "stream",
     "text": [
      "네이버 검색 프로그램입니다.\n",
      ">검색할 키워드를 입력하세요.연하고민\n",
      "Url Request Success\n",
      "연하고민_naver_to_1_all.json 저장 완료\n",
      "Url Request Success\n",
      "연하고민_naver_to_101_all.json 저장 완료\n",
      "Url Request Success\n",
      "연하고민_naver_to_201_all.json 저장 완료\n",
      "Url Request Success\n",
      "연하고민_naver_to_301_all.json 저장 완료\n",
      "Url Request Success\n",
      "연하고민_naver_to_401_all.json 저장 완료\n",
      "Url Request Success\n",
      "연하고민_naver_to_501_all.json 저장 완료\n",
      "Url Request Success\n",
      "연하고민_naver_to_601_all.json 저장 완료\n",
      "Url Request Success\n",
      "연하고민_naver_to_701_all.json 저장 완료\n",
      "Url Request Success\n",
      "연하고민_naver_to_801_all.json 저장 완료\n",
      "Url Request Success\n",
      "연하고민_naver_to_901_all.json 저장 완료\n"
     ]
    }
   ],
   "source": [
    "main()"
   ]
  },
  {
   "cell_type": "code",
   "execution_count": 45,
   "metadata": {},
   "outputs": [
    {
     "name": "stdout",
     "output_type": "stream",
     "text": [
      "네이버 검색 프로그램입니다.\n",
      ">검색할 키워드를 입력하세요.불안장애고민\n",
      "Url Request Success\n",
      "불안장애고민_naver_to_1_all.json 저장 완료\n",
      "Url Request Success\n",
      "불안장애고민_naver_to_101_all.json 저장 완료\n",
      "Url Request Success\n",
      "불안장애고민_naver_to_201_all.json 저장 완료\n",
      "Url Request Success\n",
      "불안장애고민_naver_to_301_all.json 저장 완료\n",
      "Url Request Success\n",
      "불안장애고민_naver_to_401_all.json 저장 완료\n",
      "Url Request Success\n",
      "불안장애고민_naver_to_501_all.json 저장 완료\n",
      "Url Request Success\n",
      "불안장애고민_naver_to_601_all.json 저장 완료\n",
      "Url Request Success\n",
      "불안장애고민_naver_to_701_all.json 저장 완료\n",
      "Url Request Success\n",
      "불안장애고민_naver_to_801_all.json 저장 완료\n",
      "Url Request Success\n",
      "불안장애고민_naver_to_901_all.json 저장 완료\n"
     ]
    }
   ],
   "source": [
    "main()"
   ]
  },
  {
   "cell_type": "code",
   "execution_count": 48,
   "metadata": {},
   "outputs": [
    {
     "name": "stdout",
     "output_type": "stream",
     "text": [
      "네이버 검색 프로그램입니다.\n",
      ">검색할 키워드를 입력하세요.공황장애고민\n",
      "Url Request Success\n",
      "공황장애고민_naver_to_1_all.json 저장 완료\n",
      "Url Request Success\n",
      "공황장애고민_naver_to_101_all.json 저장 완료\n",
      "Url Request Success\n",
      "공황장애고민_naver_to_201_all.json 저장 완료\n",
      "Url Request Success\n",
      "공황장애고민_naver_to_301_all.json 저장 완료\n",
      "Url Request Success\n",
      "공황장애고민_naver_to_401_all.json 저장 완료\n",
      "Url Request Success\n",
      "공황장애고민_naver_to_501_all.json 저장 완료\n",
      "Url Request Success\n",
      "공황장애고민_naver_to_601_all.json 저장 완료\n",
      "Url Request Success\n",
      "공황장애고민_naver_to_701_all.json 저장 완료\n",
      "Url Request Success\n",
      "공황장애고민_naver_to_801_all.json 저장 완료\n",
      "Url Request Success\n",
      "공황장애고민_naver_to_901_all.json 저장 완료\n"
     ]
    }
   ],
   "source": [
    "main()"
   ]
  },
  {
   "cell_type": "code",
   "execution_count": 49,
   "metadata": {},
   "outputs": [
    {
     "name": "stdout",
     "output_type": "stream",
     "text": [
      "네이버 검색 프로그램입니다.\n",
      ">검색할 키워드를 입력하세요.이별고민\n",
      "Url Request Success\n",
      "이별고민_naver_to_1_all.json 저장 완료\n",
      "Url Request Success\n",
      "이별고민_naver_to_101_all.json 저장 완료\n",
      "Url Request Success\n",
      "이별고민_naver_to_201_all.json 저장 완료\n",
      "Url Request Success\n",
      "이별고민_naver_to_301_all.json 저장 완료\n",
      "Url Request Success\n",
      "이별고민_naver_to_401_all.json 저장 완료\n",
      "Url Request Success\n",
      "이별고민_naver_to_501_all.json 저장 완료\n",
      "Url Request Success\n",
      "이별고민_naver_to_601_all.json 저장 완료\n",
      "Url Request Success\n",
      "이별고민_naver_to_701_all.json 저장 완료\n",
      "Url Request Success\n",
      "이별고민_naver_to_801_all.json 저장 완료\n",
      "Url Request Success\n",
      "이별고민_naver_to_901_all.json 저장 완료\n"
     ]
    }
   ],
   "source": [
    "main()"
   ]
  },
  {
   "cell_type": "code",
   "execution_count": 50,
   "metadata": {},
   "outputs": [
    {
     "name": "stdout",
     "output_type": "stream",
     "text": [
      "네이버 검색 프로그램입니다.\n",
      ">검색할 키워드를 입력하세요.이혼고민\n",
      "Url Request Success\n",
      "이혼고민_naver_to_1_all.json 저장 완료\n",
      "Url Request Success\n",
      "이혼고민_naver_to_101_all.json 저장 완료\n",
      "Url Request Success\n",
      "이혼고민_naver_to_201_all.json 저장 완료\n",
      "Url Request Success\n",
      "이혼고민_naver_to_301_all.json 저장 완료\n",
      "Url Request Success\n",
      "이혼고민_naver_to_401_all.json 저장 완료\n",
      "Url Request Success\n",
      "이혼고민_naver_to_501_all.json 저장 완료\n",
      "Url Request Success\n",
      "이혼고민_naver_to_601_all.json 저장 완료\n",
      "Url Request Success\n",
      "이혼고민_naver_to_701_all.json 저장 완료\n",
      "Url Request Success\n",
      "이혼고민_naver_to_801_all.json 저장 완료\n",
      "Url Request Success\n",
      "이혼고민_naver_to_901_all.json 저장 완료\n"
     ]
    }
   ],
   "source": [
    "main()"
   ]
  },
  {
   "cell_type": "code",
   "execution_count": null,
   "metadata": {},
   "outputs": [],
   "source": []
  }
 ],
 "metadata": {
  "kernelspec": {
   "display_name": "Python 3",
   "language": "python",
   "name": "python3"
  },
  "language_info": {
   "codemirror_mode": {
    "name": "ipython",
    "version": 3
   },
   "file_extension": ".py",
   "mimetype": "text/x-python",
   "name": "python",
   "nbconvert_exporter": "python",
   "pygments_lexer": "ipython3",
   "version": "3.7.3"
  }
 },
 "nbformat": 4,
 "nbformat_minor": 2
}
