{
 "cells": [
  {
   "cell_type": "code",
   "execution_count": 1,
   "metadata": {},
   "outputs": [],
   "source": [
    "import numpy as np\n",
    "import pandas as pd\n",
    "import matplotlib.pyplot as plt\n",
    "import os\n",
    "import re\n",
    "\n",
    "from konlpy.tag import Okt"
   ]
  },
  {
   "cell_type": "code",
   "execution_count": 2,
   "metadata": {},
   "outputs": [],
   "source": [
    "df= pd.read_csv('고민분류용df2.csv', encoding='utf-8')"
   ]
  },
  {
   "cell_type": "code",
   "execution_count": 8,
   "metadata": {},
   "outputs": [
    {
     "data": {
      "text/html": [
       "<div>\n",
       "<style scoped>\n",
       "    .dataframe tbody tr th:only-of-type {\n",
       "        vertical-align: middle;\n",
       "    }\n",
       "\n",
       "    .dataframe tbody tr th {\n",
       "        vertical-align: top;\n",
       "    }\n",
       "\n",
       "    .dataframe thead th {\n",
       "        text-align: right;\n",
       "    }\n",
       "</style>\n",
       "<table border=\"1\" class=\"dataframe\">\n",
       "  <thead>\n",
       "    <tr style=\"text-align: right;\">\n",
       "      <th></th>\n",
       "      <th>Unnamed: 0</th>\n",
       "      <th>text</th>\n",
       "      <th>label</th>\n",
       "    </tr>\n",
       "  </thead>\n",
       "  <tbody>\n",
       "    <tr>\n",
       "      <td>0</td>\n",
       "      <td>0</td>\n",
       "      <td>공황장애 극복 방법 치료 가능할까 요 공황장애 극복 방법 치료 도움 되는것 줌 알려...</td>\n",
       "      <td>9</td>\n",
       "    </tr>\n",
       "    <tr>\n",
       "      <td>1</td>\n",
       "      <td>1</td>\n",
       "      <td>공황장애 증상 일까 요 제 작년 여름 에 숨쉬기 가 힘들고 가슴 이 답답하고 땀 이...</td>\n",
       "      <td>9</td>\n",
       "    </tr>\n",
       "    <tr>\n",
       "      <td>2</td>\n",
       "      <td>2</td>\n",
       "      <td>공황장애 일까 요 안녕하세요 제 가 요즘 일 을 해야되 서 일 을 하게되 면 심장 ...</td>\n",
       "      <td>9</td>\n",
       "    </tr>\n",
       "    <tr>\n",
       "      <td>3</td>\n",
       "      <td>3</td>\n",
       "      <td>공황장애 강박증 안녕하세요 살 여자 입니다 작 년월 에 갑작스러운 공황발작 이후 로...</td>\n",
       "      <td>9</td>\n",
       "    </tr>\n",
       "    <tr>\n",
       "      <td>4</td>\n",
       "      <td>4</td>\n",
       "      <td>공황장애 요 ㅜㅜ 좋은 꿈 을 정도 꾼다면 나쁜 꿈 은 정도 되는데 무슨 의미 가 ...</td>\n",
       "      <td>9</td>\n",
       "    </tr>\n",
       "    <tr>\n",
       "      <td>...</td>\n",
       "      <td>...</td>\n",
       "      <td>...</td>\n",
       "      <td>...</td>\n",
       "    </tr>\n",
       "    <tr>\n",
       "      <td>17315</td>\n",
       "      <td>17315</td>\n",
       "      <td>여드름 피부 고민 좀 들어주세요 안녕하세요 살 여자 입니다 저 는 여드름 을 달 고...</td>\n",
       "      <td>4</td>\n",
       "    </tr>\n",
       "    <tr>\n",
       "      <td>17316</td>\n",
       "      <td>17316</td>\n",
       "      <td>피부 에 고민 이 많은 살 여자 피부 에 고민 이 많은 살 여자 에요 초등학교 학년...</td>\n",
       "      <td>4</td>\n",
       "    </tr>\n",
       "    <tr>\n",
       "      <td>17317</td>\n",
       "      <td>17317</td>\n",
       "      <td>피부 고민 탄력성 안녕하세요 피부 트러블 이 고민 인 한 여학생 입니다 제 가 이마...</td>\n",
       "      <td>4</td>\n",
       "    </tr>\n",
       "    <tr>\n",
       "      <td>17318</td>\n",
       "      <td>17318</td>\n",
       "      <td>안녕하세요 여드름 피부 때문 에 고민 인 학생 입니다 천연 비누 추천 좀 해주세요</td>\n",
       "      <td>4</td>\n",
       "    </tr>\n",
       "    <tr>\n",
       "      <td>17319</td>\n",
       "      <td>17319</td>\n",
       "      <td>남자 피부 고민 안녕하세요 피부관리 를 전혀 안 하다 최근 에 피부 에 관심 이 생...</td>\n",
       "      <td>4</td>\n",
       "    </tr>\n",
       "  </tbody>\n",
       "</table>\n",
       "<p>17320 rows × 3 columns</p>\n",
       "</div>"
      ],
      "text/plain": [
       "       Unnamed: 0                                               text  label\n",
       "0               0  공황장애 극복 방법 치료 가능할까 요 공황장애 극복 방법 치료 도움 되는것 줌 알려...      9\n",
       "1               1  공황장애 증상 일까 요 제 작년 여름 에 숨쉬기 가 힘들고 가슴 이 답답하고 땀 이...      9\n",
       "2               2  공황장애 일까 요 안녕하세요 제 가 요즘 일 을 해야되 서 일 을 하게되 면 심장 ...      9\n",
       "3               3  공황장애 강박증 안녕하세요 살 여자 입니다 작 년월 에 갑작스러운 공황발작 이후 로...      9\n",
       "4               4  공황장애 요 ㅜㅜ 좋은 꿈 을 정도 꾼다면 나쁜 꿈 은 정도 되는데 무슨 의미 가 ...      9\n",
       "...           ...                                                ...    ...\n",
       "17315       17315  여드름 피부 고민 좀 들어주세요 안녕하세요 살 여자 입니다 저 는 여드름 을 달 고...      4\n",
       "17316       17316  피부 에 고민 이 많은 살 여자 피부 에 고민 이 많은 살 여자 에요 초등학교 학년...      4\n",
       "17317       17317  피부 고민 탄력성 안녕하세요 피부 트러블 이 고민 인 한 여학생 입니다 제 가 이마...      4\n",
       "17318       17318      안녕하세요 여드름 피부 때문 에 고민 인 학생 입니다 천연 비누 추천 좀 해주세요      4\n",
       "17319       17319  남자 피부 고민 안녕하세요 피부관리 를 전혀 안 하다 최근 에 피부 에 관심 이 생...      4\n",
       "\n",
       "[17320 rows x 3 columns]"
      ]
     },
     "execution_count": 8,
     "metadata": {},
     "output_type": "execute_result"
    }
   ],
   "source": []
  },
  {
   "cell_type": "code",
   "execution_count": 6,
   "metadata": {},
   "outputs": [],
   "source": [
    "import pickle\n",
    "\n",
    "with open('index_to_word_byOkt.pickle', 'rb') as f :\n",
    "    index_to_word = pickle.load(f)\n",
    "with open('index_to_noums_byOkt.pickle', 'rb') as f :\n",
    "    index_to_noums = pickle.load(f)\n",
    "with open('word_to_index_byOkt.pickle', 'rb') as f :\n",
    "    word_to_index = pickle.load(f)\n",
    "with open('noums_to_index_byOkt.pickle', 'rb') as f :\n",
    "    noums_to_index = pickle.load(f)"
   ]
  },
  {
   "cell_type": "code",
   "execution_count": 10,
   "metadata": {},
   "outputs": [],
   "source": [
    "df = df.dropna()"
   ]
  },
  {
   "cell_type": "code",
   "execution_count": 13,
   "metadata": {},
   "outputs": [
    {
     "name": "stderr",
     "output_type": "stream",
     "text": [
      "C:\\Anaconda3\\lib\\site-packages\\pandas\\core\\generic.py:5208: SettingWithCopyWarning: \n",
      "A value is trying to be set on a copy of a slice from a DataFrame.\n",
      "Try using .loc[row_indexer,col_indexer] = value instead\n",
      "\n",
      "See the caveats in the documentation: http://pandas.pydata.org/pandas-docs/stable/user_guide/indexing.html#returning-a-view-versus-a-copy\n",
      "  self[name] = value\n"
     ]
    }
   ],
   "source": [
    "df.text = df.text.apply(lambda x: x.split())"
   ]
  },
  {
   "cell_type": "code",
   "execution_count": 27,
   "metadata": {},
   "outputs": [],
   "source": [
    "#단어 -> 인덱스 변환\n",
    "def n_to_int(x):\n",
    "    pad_index = []\n",
    "    for i in x:\n",
    "        if i in noums_to_index.keys():\n",
    "            pad_index.append(noums_to_index[i])\n",
    "    return pad_index\n",
    "\n",
    "#morph -> 인덱스 변환\n",
    "def w_to_int(x):\n",
    "    pad_index = []\n",
    "    for i in x:\n",
    "        if i in word_to_index.keys():\n",
    "            pad_index.append(word_to_index[i])\n",
    "    return pad_index"
   ]
  },
  {
   "cell_type": "code",
   "execution_count": 28,
   "metadata": {},
   "outputs": [],
   "source": [
    "nom_X = df.text.apply(lambda x: n_to_int(x))\n",
    "mor_X = df.text.apply(lambda x: w_to_int(x))"
   ]
  },
  {
   "cell_type": "code",
   "execution_count": 43,
   "metadata": {},
   "outputs": [
    {
     "name": "stderr",
     "output_type": "stream",
     "text": [
      "Using TensorFlow backend.\n"
     ]
    }
   ],
   "source": [
    "from keras.preprocessing.sequence import pad_sequences\n",
    "\n",
    "X_nom =pad_sequences(nom_X, maxlen=70, padding='post', truncating='post')\n",
    "X_mor =pad_sequences(mor_X, maxlen=70, padding='post', truncating='post')\n"
   ]
  },
  {
   "cell_type": "code",
   "execution_count": 45,
   "metadata": {},
   "outputs": [],
   "source": [
    "Y = df.label.values"
   ]
  },
  {
   "cell_type": "code",
   "execution_count": 46,
   "metadata": {},
   "outputs": [],
   "source": [
    "from sklearn.model_selection import train_test_split\n",
    "\n",
    "x_n_train, x_n_test, y_n_train, y_n_test = train_test_split(X_nom, Y, test_size = 0.1, random_state = 42)\n",
    "x_m_train, x_m_test, y_m_train, y_m_test = train_test_split(X_mor, Y, test_size = 0.1, random_state = 42)"
   ]
  },
  {
   "cell_type": "code",
   "execution_count": 49,
   "metadata": {},
   "outputs": [],
   "source": [
    "from keras.utils import to_categorical\n",
    "\n",
    "y_n_train = to_categorical(y_n_train)\n",
    "y_n_test = to_categorical(y_n_test)\n",
    "\n",
    "y_m_train = to_categorical(y_m_train)\n",
    "y_m_test = to_categorical(y_m_test)\n"
   ]
  },
  {
   "cell_type": "code",
   "execution_count": 50,
   "metadata": {
    "scrolled": true
   },
   "outputs": [
    {
     "data": {
      "text/plain": [
       "((15580, 70), (15580, 10), (15580, 70), (15580, 10))"
      ]
     },
     "execution_count": 50,
     "metadata": {},
     "output_type": "execute_result"
    }
   ],
   "source": [
    "x_n_train.shape, y_n_train.shape , x_m_train.shape, y_m_train.shape"
   ]
  },
  {
   "cell_type": "code",
   "execution_count": null,
   "metadata": {},
   "outputs": [],
   "source": []
  },
  {
   "cell_type": "code",
   "execution_count": 57,
   "metadata": {},
   "outputs": [],
   "source": [
    "from keras.models import Sequential\n",
    "from keras.layers import Embedding, SimpleRNN, Dense\n",
    "from keras.layers import LSTM\n",
    "model1 = Sequential()\n",
    "model1.add(Embedding(9999, 32,input_length=70))\n",
    "model1.add(LSTM(64, return_sequences= True))\n",
    "model1.add(LSTM(32))\n",
    "model1.add(Dense(10, activation=\"softmax\"))"
   ]
  },
  {
   "cell_type": "code",
   "execution_count": 58,
   "metadata": {},
   "outputs": [],
   "source": [
    "model1.compile(loss= 'categorical_crossentropy', optimizer = 'adam', metrics = ['acc'])"
   ]
  },
  {
   "cell_type": "code",
   "execution_count": 59,
   "metadata": {
    "scrolled": true
   },
   "outputs": [
    {
     "name": "stdout",
     "output_type": "stream",
     "text": [
      "Train on 12464 samples, validate on 3116 samples\n",
      "Epoch 1/8\n",
      "12464/12464 [==============================] - 11s 854us/step - loss: 2.0316 - acc: 0.2236 - val_loss: 1.6546 - val_acc: 0.3206\n",
      "Epoch 2/8\n",
      "12464/12464 [==============================] - 9s 744us/step - loss: 1.1850 - acc: 0.5195 - val_loss: 0.9679 - val_acc: 0.5616\n",
      "Epoch 3/8\n",
      "12464/12464 [==============================] - 9s 758us/step - loss: 0.7975 - acc: 0.6823 - val_loss: 0.7340 - val_acc: 0.7535\n",
      "Epoch 4/8\n",
      "12464/12464 [==============================] - 9s 742us/step - loss: 0.6089 - acc: 0.7833 - val_loss: 0.6387 - val_acc: 0.7542\n",
      "Epoch 5/8\n",
      "12464/12464 [==============================] - 9s 746us/step - loss: 0.5127 - acc: 0.8305 - val_loss: 0.5422 - val_acc: 0.8415\n",
      "Epoch 6/8\n",
      "12464/12464 [==============================] - 10s 777us/step - loss: 0.4092 - acc: 0.8821 - val_loss: 0.4819 - val_acc: 0.8633\n",
      "Epoch 7/8\n",
      "12464/12464 [==============================] - 10s 765us/step - loss: 0.3338 - acc: 0.9015 - val_loss: 0.4198 - val_acc: 0.8784\n",
      "Epoch 8/8\n",
      "12464/12464 [==============================] - 10s 772us/step - loss: 0.3066 - acc: 0.9086 - val_loss: 0.4010 - val_acc: 0.8867\n"
     ]
    }
   ],
   "source": [
    "history = model1.fit(x_n_train, y_n_train, batch_size =128, epochs =8 , validation_split =0.2)"
   ]
  },
  {
   "cell_type": "code",
   "execution_count": 64,
   "metadata": {},
   "outputs": [
    {
     "name": "stdout",
     "output_type": "stream",
     "text": [
      "Train on 12464 samples, validate on 3116 samples\n",
      "Epoch 1/1\n",
      "12464/12464 [==============================] - 9s 744us/step - loss: 0.2772 - acc: 0.9138 - val_loss: 0.4175 - val_acc: 0.8777\n"
     ]
    }
   ],
   "source": [
    "history = model1.fit(x_n_train, y_n_train, batch_size =128, epochs =1 , validation_split =0.2)"
   ]
  },
  {
   "cell_type": "code",
   "execution_count": 62,
   "metadata": {},
   "outputs": [],
   "source": [
    "from keras.models import Sequential\n",
    "from keras.layers import Embedding, SimpleRNN, Dense\n",
    "from keras.layers import LSTM\n",
    "model2 = Sequential()\n",
    "model2.add(Embedding(9997, 32,input_length=70))\n",
    "model2.add(SimpleRNN(64, return_sequences= True))\n",
    "model2.add(SimpleRNN(32))\n",
    "model2.add(Dense(10, activation=\"softmax\"))"
   ]
  },
  {
   "cell_type": "code",
   "execution_count": 63,
   "metadata": {},
   "outputs": [
    {
     "name": "stdout",
     "output_type": "stream",
     "text": [
      "Train on 12464 samples, validate on 3116 samples\n",
      "Epoch 1/10\n",
      "12464/12464 [==============================] - 11s 857us/step - loss: 2.0134 - acc: 0.2383 - val_loss: 1.6438 - val_acc: 0.3052\n",
      "Epoch 2/10\n",
      "12464/12464 [==============================] - 9s 746us/step - loss: 1.5248 - acc: 0.3544 - val_loss: 1.5726 - val_acc: 0.3405\n",
      "Epoch 3/10\n",
      "12464/12464 [==============================] - 9s 743us/step - loss: 1.4068 - acc: 0.3962 - val_loss: 1.3029 - val_acc: 0.4220\n",
      "Epoch 4/10\n",
      "12464/12464 [==============================] - 9s 723us/step - loss: 1.4623 - acc: 0.4085 - val_loss: 1.4220 - val_acc: 0.4146\n",
      "Epoch 5/10\n",
      "12464/12464 [==============================] - 9s 725us/step - loss: 1.3099 - acc: 0.4292 - val_loss: 1.3091 - val_acc: 0.4178\n",
      "Epoch 6/10\n",
      "12464/12464 [==============================] - 9s 742us/step - loss: 1.2962 - acc: 0.4190 - val_loss: 1.3134 - val_acc: 0.4117\n",
      "Epoch 7/10\n",
      "12464/12464 [==============================] - 9s 737us/step - loss: 1.3026 - acc: 0.4450 - val_loss: 1.3578 - val_acc: 0.4557\n",
      "Epoch 8/10\n",
      "12464/12464 [==============================] - 9s 745us/step - loss: 1.3632 - acc: 0.4538 - val_loss: 1.3741 - val_acc: 0.4618\n",
      "Epoch 9/10\n",
      "12464/12464 [==============================] - 9s 730us/step - loss: 1.3460 - acc: 0.4621 - val_loss: 1.3609 - val_acc: 0.4323\n",
      "Epoch 10/10\n",
      "12464/12464 [==============================] - 9s 736us/step - loss: 1.3482 - acc: 0.4493 - val_loss: 1.3784 - val_acc: 0.4207\n"
     ]
    }
   ],
   "source": [
    "model2.compile(loss= 'categorical_crossentropy', optimizer = 'adam', metrics = ['acc'])\n",
    "history = model2.fit(x_m_train, y_m_train, batch_size =128, epochs =10 , validation_split =0.2)"
   ]
  },
  {
   "cell_type": "code",
   "execution_count": null,
   "metadata": {},
   "outputs": [],
   "source": []
  },
  {
   "cell_type": "code",
   "execution_count": 65,
   "metadata": {},
   "outputs": [
    {
     "name": "stdout",
     "output_type": "stream",
     "text": [
      "1732/1732 [==============================] - 1s 305us/step\n"
     ]
    },
    {
     "data": {
      "text/plain": [
       "[0.4155722647285902, 0.874133949191686]"
      ]
     },
     "execution_count": 65,
     "metadata": {},
     "output_type": "execute_result"
    }
   ],
   "source": [
    "model1.evaluate(x_n_test, y_n_test)"
   ]
  },
  {
   "cell_type": "code",
   "execution_count": 66,
   "metadata": {
    "scrolled": true
   },
   "outputs": [
    {
     "name": "stdout",
     "output_type": "stream",
     "text": [
      "1732/1732 [==============================] - 1s 296us/step\n"
     ]
    },
    {
     "data": {
      "text/plain": [
       "[1.3824796417844214, 0.4491916859122402]"
      ]
     },
     "execution_count": 66,
     "metadata": {},
     "output_type": "execute_result"
    }
   ],
   "source": [
    "model2.evaluate(x_m_test, y_m_test)"
   ]
  },
  {
   "cell_type": "code",
   "execution_count": 68,
   "metadata": {},
   "outputs": [],
   "source": [
    "def pos_tag2(sentences):\n",
    "    # KoNLPy 형태소분석기 설정\n",
    "    tagger = Okt()\n",
    "    \n",
    "    # 문장 품사 변수 초기화\n",
    "    sentences_pos = []\n",
    "    sentence = \" \".join(tagger.morphs(sentences))\n",
    "    sentences_pos.append(sentence)\n",
    "    \n",
    "  \n",
    "    return sentences_pos"
   ]
  },
  {
   "cell_type": "code",
   "execution_count": 150,
   "metadata": {},
   "outputs": [],
   "source": [
    "sentence ='다이어트 다이어트 다이어트 때문에 너무 고민입니다. 몸매가 살이 잘 찌는 편이라 맨날 뚱뚱해요 어떻게 해요'\n",
    "\n",
    "test_sen = pos_tag2(sentence)"
   ]
  },
  {
   "cell_type": "code",
   "execution_count": 151,
   "metadata": {},
   "outputs": [
    {
     "data": {
      "text/plain": [
       "'다이어트 다이어트 다이어트 때문 에 너무 고민 입니다 . 몸매 가 살이 잘 찌는 편이 라 맨날 뚱뚱해요 어떻게 해 요'"
      ]
     },
     "execution_count": 151,
     "metadata": {},
     "output_type": "execute_result"
    }
   ],
   "source": [
    "test= test_sen.pop()\n",
    "test\n",
    "    "
   ]
  },
  {
   "cell_type": "code",
   "execution_count": 152,
   "metadata": {},
   "outputs": [],
   "source": [
    "test= test.split()"
   ]
  },
  {
   "cell_type": "code",
   "execution_count": 153,
   "metadata": {},
   "outputs": [],
   "source": [
    "def n_to_int2(x):\n",
    "    pad_index = []\n",
    "    for i in x:\n",
    "        if i in noums_to_index.keys():\n",
    "            pad_index.append(noums_to_index[i])\n",
    "    return pad_index\n"
   ]
  },
  {
   "cell_type": "code",
   "execution_count": 154,
   "metadata": {},
   "outputs": [],
   "source": [
    "test= n_to_int2(test)"
   ]
  },
  {
   "cell_type": "code",
   "execution_count": 155,
   "metadata": {},
   "outputs": [
    {
     "data": {
      "text/plain": [
       "[1243, 1243, 1243, 3360, 6182, 8723, 7637, 656, 8453, 880, 6156, 2297, 2401]"
      ]
     },
     "execution_count": 155,
     "metadata": {},
     "output_type": "execute_result"
    }
   ],
   "source": [
    "test"
   ]
  },
  {
   "cell_type": "code",
   "execution_count": 156,
   "metadata": {},
   "outputs": [],
   "source": [
    "test= pad_sequences([test], maxlen=70)"
   ]
  },
  {
   "cell_type": "code",
   "execution_count": 157,
   "metadata": {},
   "outputs": [
    {
     "data": {
      "text/plain": [
       "array([[   0,    0,    0,    0,    0,    0,    0,    0,    0,    0,    0,\n",
       "           0,    0,    0,    0,    0,    0,    0,    0,    0,    0,    0,\n",
       "           0,    0,    0,    0,    0,    0,    0,    0,    0,    0,    0,\n",
       "           0,    0,    0,    0,    0,    0,    0,    0,    0,    0,    0,\n",
       "           0,    0,    0,    0,    0,    0,    0,    0,    0,    0,    0,\n",
       "           0,    0, 1243, 1243, 1243, 3360, 6182, 8723, 7637,  656, 8453,\n",
       "         880, 6156, 2297, 2401]])"
      ]
     },
     "execution_count": 157,
     "metadata": {},
     "output_type": "execute_result"
    }
   ],
   "source": [
    "test"
   ]
  },
  {
   "cell_type": "code",
   "execution_count": 158,
   "metadata": {},
   "outputs": [
    {
     "data": {
      "text/plain": [
       "array([3], dtype=int64)"
      ]
     },
     "execution_count": 158,
     "metadata": {},
     "output_type": "execute_result"
    }
   ],
   "source": [
    "model1.predict_classes(test)"
   ]
  },
  {
   "cell_type": "code",
   "execution_count": null,
   "metadata": {},
   "outputs": [],
   "source": []
  },
  {
   "cell_type": "code",
   "execution_count": null,
   "metadata": {},
   "outputs": [],
   "source": []
  }
 ],
 "metadata": {
  "kernelspec": {
   "display_name": "Python 3",
   "language": "python",
   "name": "python3"
  },
  "language_info": {
   "codemirror_mode": {
    "name": "ipython",
    "version": 3
   },
   "file_extension": ".py",
   "mimetype": "text/x-python",
   "name": "python",
   "nbconvert_exporter": "python",
   "pygments_lexer": "ipython3",
   "version": "3.7.3"
  }
 },
 "nbformat": 4,
 "nbformat_minor": 2
}
