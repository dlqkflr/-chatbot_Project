{
 "cells": [
  {
   "cell_type": "markdown",
   "metadata": {},
   "source": [
    "# label 정보"
   ]
  },
  {
   "cell_type": "markdown",
   "metadata": {},
   "source": [
    "* 문장 분류 : 0 = 리액션 / 1 = 해결책\n",
    "* 고민 분류 : 운동몸매 :1 / 부부 :2 / 연애 :3 / 외모 : 4 / 진로 :5 / 직장 :6 / 이별 7 / 친구 :8 / 심리 : 9"
   ]
  },
  {
   "cell_type": "markdown",
   "metadata": {},
   "source": [
    "## import"
   ]
  },
  {
   "cell_type": "code",
   "execution_count": 1,
   "metadata": {},
   "outputs": [],
   "source": [
    "import numpy as np\n",
    "import pandas as pd\n",
    "from konlpy.tag import Okt\n",
    "import dill\n",
    "from sklearn.ensemble import RandomForestClassifier\n",
    "from sklearn.feature_extraction.text import TfidfVectorizer"
   ]
  },
  {
   "cell_type": "markdown",
   "metadata": {},
   "source": [
    "## model 불러오기"
   ]
  },
  {
   "cell_type": "code",
   "execution_count": 2,
   "metadata": {},
   "outputs": [],
   "source": [
    "CP_tfidf_model = dill.load(open(\"model/CP_classif_tfidf.obj\",\"rb\"))\n",
    "CP_RF_model = dill.load(open(\"model/CP_classif_RF.obj\",\"rb\"))\n",
    "\n",
    "GM_RF_model = dill.load(open(\"model/gomin_classif_RF.obj\",\"rb\"))\n",
    "GM_tfidf_model  = dill.load(open(\"model/gomin_classif_tfidf.obj\",\"rb\"))"
   ]
  },
  {
   "cell_type": "markdown",
   "metadata": {},
   "source": [
    "## 함수 설정 "
   ]
  },
  {
   "cell_type": "markdown",
   "metadata": {},
   "source": [
    "* 한글 토큰화 전처리 (OKt 사용)"
   ]
  },
  {
   "cell_type": "code",
   "execution_count": 3,
   "metadata": {},
   "outputs": [],
   "source": [
    "def pos_tag2(sentences):\n",
    "    # KoNLPy 형태소분석기 설정\n",
    "    tagger = Okt()\n",
    "    \n",
    "    # 문장 품사 변수 초기화\n",
    "    sentences_pos = []\n",
    "    sentence = \" \".join(tagger.morphs(sentences))\n",
    "    sentences_pos.append(sentence)\n",
    "    \n",
    "  \n",
    "    return sentences_pos"
   ]
  },
  {
   "cell_type": "markdown",
   "metadata": {},
   "source": [
    "* 문장 분류 : 0 = 리액션 / 1 = 해결책"
   ]
  },
  {
   "cell_type": "code",
   "execution_count": 4,
   "metadata": {},
   "outputs": [],
   "source": [
    "def sentense_classfication(input_sentence):\n",
    "    \n",
    "    sentence = pos_tag2(input_sentence)\n",
    "    test_sen = CP_tfidf_model.transform(sentence).toarray()\n",
    "    predict_CP = CP_RF_model.predict(test_sen)\n",
    "    predict_label = predict_CP[0]\n",
    "    \n",
    "    return(predict_label)"
   ]
  },
  {
   "cell_type": "markdown",
   "metadata": {},
   "source": [
    "* 고민 분류 : 운동몸매 :1 / 부부 :2 / 연애 :3 / 외모 : 4 / 진로 :5 / 직장 :6 / 이별 7 / 친구 :8 / 심리 : 9"
   ]
  },
  {
   "cell_type": "code",
   "execution_count": 5,
   "metadata": {},
   "outputs": [],
   "source": [
    "def gomin_classfication(input_sentences):\n",
    "    \n",
    "    sentences = pos_tag2(input_sentences)\n",
    "    test_sens = GM_tfidf_model.transform(sentences).toarray()\n",
    "    predict_GM = GM_RF_model.predict(test_sens)\n",
    "    predict_label = predict_GM[0]\n",
    "    \n",
    "    return(predict_label)"
   ]
  },
  {
   "cell_type": "markdown",
   "metadata": {},
   "source": [
    "### test"
   ]
  },
  {
   "cell_type": "code",
   "execution_count": 70,
   "metadata": {},
   "outputs": [],
   "source": [
    "input_data = '요새 직장 때문에 너무 힘들어요'\n",
    "input_data2 = '너무 괴로워서 그러는데 조언 좀 해주세요'"
   ]
  },
  {
   "cell_type": "code",
   "execution_count": 71,
   "metadata": {},
   "outputs": [],
   "source": [
    "input_data3 = input_data+ input_data2"
   ]
  },
  {
   "cell_type": "code",
   "execution_count": 72,
   "metadata": {
    "scrolled": true
   },
   "outputs": [
    {
     "name": "stdout",
     "output_type": "stream",
     "text": [
      "0\n"
     ]
    }
   ],
   "source": [
    "print(sentense_classfication(input_data))"
   ]
  },
  {
   "cell_type": "code",
   "execution_count": 73,
   "metadata": {},
   "outputs": [
    {
     "name": "stdout",
     "output_type": "stream",
     "text": [
      "1\n"
     ]
    }
   ],
   "source": [
    "print(sentense_classfication(input_data2))"
   ]
  },
  {
   "cell_type": "code",
   "execution_count": 74,
   "metadata": {
    "scrolled": true
   },
   "outputs": [
    {
     "name": "stdout",
     "output_type": "stream",
     "text": [
      "6\n"
     ]
    }
   ],
   "source": [
    "\n",
    "print(gomin_classfication(input_data3))"
   ]
  },
  {
   "cell_type": "code",
   "execution_count": null,
   "metadata": {},
   "outputs": [],
   "source": []
  }
 ],
 "metadata": {
  "kernelspec": {
   "display_name": "Python 3",
   "language": "python",
   "name": "python3"
  },
  "language_info": {
   "codemirror_mode": {
    "name": "ipython",
    "version": 3
   },
   "file_extension": ".py",
   "mimetype": "text/x-python",
   "name": "python",
   "nbconvert_exporter": "python",
   "pygments_lexer": "ipython3",
   "version": "3.7.3"
  }
 },
 "nbformat": 4,
 "nbformat_minor": 2
}
