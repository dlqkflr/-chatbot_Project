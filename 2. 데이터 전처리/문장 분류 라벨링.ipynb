{
 "cells": [
  {
   "cell_type": "code",
   "execution_count": 2,
   "metadata": {},
   "outputs": [],
   "source": [
    "import numpy as np\n",
    "import pandas as pd\n",
    "import matplotlib.pyplot as plt\n",
    "import os\n",
    "import re\n",
    "\n",
    "from konlpy.tag import Okt"
   ]
  },
  {
   "cell_type": "code",
   "execution_count": 3,
   "metadata": {},
   "outputs": [],
   "source": [
    "df1 = pd.read_csv('processing/고민상담.csv', encoding ='utf-8')\n",
    "df2 = pd.read_csv('processing/공황장애고민.csv', encoding ='utf-8')\n",
    "df3 = pd.read_csv('processing/군입대고민.csv', encoding ='utf-8')\n",
    "df4 = pd.read_csv('processing/다이어트고민.csv', encoding ='utf-8')\n",
    "df5 = pd.read_csv('processing/대학생활고민.csv', encoding ='utf-8')\n",
    "df6 = pd.read_csv('processing/몸매고민.csv', encoding ='utf-8')\n",
    "df7 = pd.read_csv('processing/부부고민.csv', encoding ='utf-8')\n",
    "df8 = pd.read_csv('processing/불안장애고민.csv', encoding ='utf-8')\n",
    "df9 = pd.read_csv('processing/사랑고민.csv', encoding ='utf-8')\n",
    "df10 = pd.read_csv('processing/심리상담.csv', encoding ='utf-8')\n",
    "df11 = pd.read_csv('processing/연상고민.csv', encoding ='utf-8')\n",
    "df12 = pd.read_csv('processing/연애고민.csv', encoding ='utf-8')\n",
    "df13 = pd.read_csv('processing/연인관계고민.csv', encoding ='utf-8')\n",
    "df14 = pd.read_csv('processing/연하고민.csv', encoding ='utf-8')\n",
    "df15 = pd.read_csv('processing/외모고민.csv', encoding ='utf-8')\n",
    "df16 = pd.read_csv('processing/우울증고민.csv', encoding ='utf-8')\n",
    "df17 = pd.read_csv('processing/이별고민.csv', encoding ='utf-8')\n",
    "df18 = pd.read_csv('processing/이혼고민.csv', encoding ='utf-8')\n",
    "df19 = pd.read_csv('processing/입시고민.csv', encoding ='utf-8')\n",
    "df20 = pd.read_csv('processing/직장고민.csv', encoding ='utf-8')\n",
    "df21 = pd.read_csv('processing/직장생활고민.csv', encoding ='utf-8')\n",
    "df22 = pd.read_csv('processing/진로고민.csv', encoding ='utf-8')\n",
    "df23 = pd.read_csv('processing/취업고민.csv', encoding ='utf-8')\n",
    "df24 = pd.read_csv('processing/친구관계고민.csv', encoding ='utf-8')\n",
    "df25 = pd.read_csv('processing/퇴사고민.csv', encoding ='utf-8')\n",
    "df26 = pd.read_csv('processing/피부고민.csv', encoding ='utf-8')\n",
    "df27 = pd.read_csv('processing/학업고민.csv', encoding ='utf-8')"
   ]
  },
  {
   "cell_type": "code",
   "execution_count": 4,
   "metadata": {},
   "outputs": [],
   "source": [
    "def test(s):\n",
    "    hangul = re.compile('[^ ㄱ-ㅣ가-힣]+') # 한글과 띄어쓰기를 제외한 모든 글자\n",
    "    result = hangul.sub('', s) # 한글과 띄어쓰기를 제외한 모든 부분을 제거\n",
    "    return result"
   ]
  },
  {
   "cell_type": "code",
   "execution_count": 5,
   "metadata": {},
   "outputs": [],
   "source": [
    "def make_label(df):\n",
    "    df.columns = ['text']\n",
    "    df['label'] = 0\n",
    "    for i in range(len(df['text'])):\n",
    "        if df['text'][i] == '\\n':\n",
    "            df['label'][i-1] = 1\n",
    "            df = df.drop([i])\n",
    "            \n",
    "    df['text'] = df['text'].apply(lambda x : test(x))\n",
    "\n",
    "    return df"
   ]
  },
  {
   "cell_type": "code",
   "execution_count": 6,
   "metadata": {},
   "outputs": [
    {
     "name": "stderr",
     "output_type": "stream",
     "text": [
      "C:\\Anaconda3\\lib\\site-packages\\ipykernel_launcher.py:6: SettingWithCopyWarning: \n",
      "A value is trying to be set on a copy of a slice from a DataFrame\n",
      "\n",
      "See the caveats in the documentation: http://pandas.pydata.org/pandas-docs/stable/user_guide/indexing.html#returning-a-view-versus-a-copy\n",
      "  \n"
     ]
    }
   ],
   "source": [
    "df1 = make_label(df1)\n",
    "df2 = make_label(df2)\n",
    "df3 = make_label(df3)\n",
    "df4 = make_label(df4)\n",
    "df5 = make_label(df5)\n",
    "df6 = make_label(df6)\n",
    "df7 = make_label(df7)\n",
    "df8 = make_label(df8)\n",
    "df9 = make_label(df9)\n",
    "df10 = make_label(df10)\n",
    "df11 = make_label(df11)\n",
    "df12 = make_label(df12)\n",
    "df13 = make_label(df13)\n",
    "df14 = make_label(df14)\n",
    "df15 = make_label(df15)\n",
    "df16 = make_label(df16)\n",
    "df17 = make_label(df17)\n",
    "df18 = make_label(df18)\n",
    "df19 = make_label(df19)\n",
    "df20 = make_label(df20)\n",
    "df21 = make_label(df21)\n",
    "df22 = make_label(df22)\n",
    "df23 = make_label(df23)\n",
    "df24 = make_label(df24)\n",
    "df25 = make_label(df25)\n",
    "df26 = make_label(df26)\n",
    "df27 = make_label(df27)\n"
   ]
  },
  {
   "cell_type": "code",
   "execution_count": 7,
   "metadata": {},
   "outputs": [],
   "source": [
    "f_df=pd.concat([df1,df2,df3,df4,df5,df6,df7,df8,df9,df10,df11,df12,df13,df14,df15,df16,df17,df18,df19,df20,\\\n",
    "          df21,df22,df23,df24,df25,df26,df27], axis=0)"
   ]
  },
  {
   "cell_type": "code",
   "execution_count": 8,
   "metadata": {},
   "outputs": [],
   "source": [
    "f_df.index = list(range(len(f_df)))"
   ]
  },
  {
   "cell_type": "code",
   "execution_count": 9,
   "metadata": {},
   "outputs": [
    {
     "data": {
      "text/html": [
       "<div>\n",
       "<style scoped>\n",
       "    .dataframe tbody tr th:only-of-type {\n",
       "        vertical-align: middle;\n",
       "    }\n",
       "\n",
       "    .dataframe tbody tr th {\n",
       "        vertical-align: top;\n",
       "    }\n",
       "\n",
       "    .dataframe thead th {\n",
       "        text-align: right;\n",
       "    }\n",
       "</style>\n",
       "<table border=\"1\" class=\"dataframe\">\n",
       "  <thead>\n",
       "    <tr style=\"text-align: right;\">\n",
       "      <th></th>\n",
       "      <th>text</th>\n",
       "      <th>label</th>\n",
       "    </tr>\n",
       "  </thead>\n",
       "  <tbody>\n",
       "    <tr>\n",
       "      <td>0</td>\n",
       "      <td>저 직업고민상담쫌 해주세요ㅜㅜㅜㅜㅜ제발</td>\n",
       "      <td>1</td>\n",
       "    </tr>\n",
       "    <tr>\n",
       "      <td>1</td>\n",
       "      <td>실시간으로 고민 상담해주는 사이트좀 알려줘요</td>\n",
       "      <td>0</td>\n",
       "    </tr>\n",
       "    <tr>\n",
       "      <td>2</td>\n",
       "      <td>실시간으로 고민 상담해주는 사이트좀 알려줘요</td>\n",
       "      <td>0</td>\n",
       "    </tr>\n",
       "    <tr>\n",
       "      <td>3</td>\n",
       "      <td>주변에 별로 알리고싶지않은거니까</td>\n",
       "      <td>0</td>\n",
       "    </tr>\n",
       "    <tr>\n",
       "      <td>4</td>\n",
       "      <td>그래도 지인한테 고민 털어내라거나 학교선생님한테 물어보면 추천해준다는 답글은 없으면...</td>\n",
       "      <td>1</td>\n",
       "    </tr>\n",
       "  </tbody>\n",
       "</table>\n",
       "</div>"
      ],
      "text/plain": [
       "                                                text  label\n",
       "0                              저 직업고민상담쫌 해주세요ㅜㅜㅜㅜㅜ제발      1\n",
       "1                           실시간으로 고민 상담해주는 사이트좀 알려줘요      0\n",
       "2                           실시간으로 고민 상담해주는 사이트좀 알려줘요      0\n",
       "3                                  주변에 별로 알리고싶지않은거니까      0\n",
       "4  그래도 지인한테 고민 털어내라거나 학교선생님한테 물어보면 추천해준다는 답글은 없으면...      1"
      ]
     },
     "execution_count": 9,
     "metadata": {},
     "output_type": "execute_result"
    }
   ],
   "source": [
    "f_df.head()"
   ]
  },
  {
   "cell_type": "code",
   "execution_count": 10,
   "metadata": {},
   "outputs": [],
   "source": [
    "classifi_gomin_df = f_df[['text','label']]"
   ]
  },
  {
   "cell_type": "code",
   "execution_count": 11,
   "metadata": {},
   "outputs": [],
   "source": [
    "classifi_gomin_df.to_csv(\"classifi_corpus_label.csv\", encoding='utf-8')"
   ]
  },
  {
   "cell_type": "code",
   "execution_count": null,
   "metadata": {},
   "outputs": [],
   "source": []
  }
 ],
 "metadata": {
  "kernelspec": {
   "display_name": "Python 3",
   "language": "python",
   "name": "python3"
  },
  "language_info": {
   "codemirror_mode": {
    "name": "ipython",
    "version": 3
   },
   "file_extension": ".py",
   "mimetype": "text/x-python",
   "name": "python",
   "nbconvert_exporter": "python",
   "pygments_lexer": "ipython3",
   "version": "3.7.3"
  }
 },
 "nbformat": 4,
 "nbformat_minor": 2
}
